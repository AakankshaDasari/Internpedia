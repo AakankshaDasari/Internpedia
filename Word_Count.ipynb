{
  "cells": [
    {
      "cell_type": "markdown",
      "metadata": {
        "id": "view-in-github",
        "colab_type": "text"
      },
      "source": [
        "<a href=\"https://colab.research.google.com/github/AakankshaDasari/Internpedia/blob/main/Word_Count.ipynb\" target=\"_parent\"><img src=\"https://colab.research.google.com/assets/colab-badge.svg\" alt=\"Open In Colab\"/></a>"
      ]
    },
    {
      "cell_type": "code",
      "execution_count": null,
      "metadata": {
        "colab": {
          "background_save": true
        },
        "id": "yH8vtHkg5dFO"
      },
      "outputs": [],
      "source": [
        "import string"
      ]
    },
    {
      "cell_type": "code",
      "execution_count": null,
      "metadata": {
        "id": "zu-JYCl35hfI"
      },
      "outputs": [],
      "source": [
        "def count_words(text):\n",
        "  # Remove punctuation and split the text into words\n",
        "  translator = str.maketrans(\"\",\"\",string.punctuation)\n",
        "  words = text.translate(translator).split()\n",
        "\n",
        "  # count the number of words\n",
        "  word_count = len(words)\n",
        "  return word_count"
      ]
    },
    {
      "cell_type": "code",
      "execution_count": null,
      "metadata": {
        "id": "pnsrStZn5him"
      },
      "outputs": [],
      "source": [
        "def word_count_tool():\n",
        "    while True:\n",
        "        print(\"\\nWORD COUNT TOOL MENU:\")\n",
        "        print(\"1. Count words from input text\")\n",
        "        print(\"2. Count words from a file\")\n",
        "        print(\"3. Exit\")\n",
        "\n",
        "        choice = input(\"Enter your choice (1/2/3): \")\n",
        "\n",
        "        if choice == '3':\n",
        "           print(\"Exiting..\")\n",
        "           break\n",
        "\n",
        "        elif choice == '1':\n",
        "              text = input(\"Enter the text: \")\n",
        "              word_count = count_words(text)\n",
        "              print(\"word count:\", word_count)\n",
        "\n",
        "        elif choice == '2':\n",
        "             file_name = input(\"Enter the file name: \")\n",
        "             try:\n",
        "                 with open(file_name, 'r') as file:\n",
        "                     text = file.read()\n",
        "                     word_count = count_words(text)\n",
        "                     print(\"Word count:\", word_count)\n",
        "             except FileNotFoundError:\n",
        "                 print(\"Error: File not found.\")\n",
        "             except IOError:\n",
        "                 print(\"Error: Unable to read the file.\")\n",
        "\n",
        "        else:\n",
        "            print(\"Invalid choice:! please try again\")"
      ]
    },
    {
      "cell_type": "code",
      "execution_count": null,
      "metadata": {
        "id": "3Lsw1IOE6XB_"
      },
      "outputs": [],
      "source": [
        "def main():\n",
        "    print(\"Welcome to Word Count Tool\")\n",
        "    word_count_tool()"
      ]
    },
    {
      "cell_type": "code",
      "execution_count": null,
      "metadata": {
        "id": "FvgylgT15hqn",
        "colab": {
          "base_uri": "https://localhost:8080/"
        },
        "outputId": "4bc393ed-133e-4be9-b61f-a023f207beb4"
      },
      "outputs": [
        {
          "output_type": "stream",
          "name": "stdout",
          "text": [
            "Welcome to Word Count Tool\n",
            "\n",
            "WORD COUNT TOOL MENU:\n",
            "1. Count words from input text\n",
            "2. Count words from a file\n",
            "3. Exit\n",
            "Enter your choice (1/2/3): 1\n",
            "Enter the text: Append\n",
            "word count: 1\n",
            "\n",
            "WORD COUNT TOOL MENU:\n",
            "1. Count words from input text\n",
            "2. Count words from a file\n",
            "3. Exit\n",
            "Enter your choice (1/2/3): Boolean\n",
            "Invalid choice:! please try again\n",
            "\n",
            "WORD COUNT TOOL MENU:\n",
            "1. Count words from input text\n",
            "2. Count words from a file\n",
            "3. Exit\n",
            "Enter your choice (1/2/3): 3\n",
            "Exiting..\n"
          ]
        }
      ],
      "source": [
        "if __name__ == \"__main__\":\n",
        "    main()"
      ]
    }
  ],
  "metadata": {
    "colab": {
      "provenance": [],
      "authorship_tag": "ABX9TyNsXJZwLmvJmBpEEsfmC7H4",
      "include_colab_link": true
    },
    "kernelspec": {
      "display_name": "Python 3",
      "name": "python3"
    },
    "language_info": {
      "name": "python"
    }
  },
  "nbformat": 4,
  "nbformat_minor": 0
}