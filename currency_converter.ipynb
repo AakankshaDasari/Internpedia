{
  "nbformat": 4,
  "nbformat_minor": 0,
  "metadata": {
    "colab": {
      "provenance": [],
      "authorship_tag": "ABX9TyOi28l/Db877C7L/bzl7p7o",
      "include_colab_link": true
    },
    "kernelspec": {
      "name": "python3",
      "display_name": "Python 3"
    },
    "language_info": {
      "name": "python"
    }
  },
  "cells": [
    {
      "cell_type": "markdown",
      "metadata": {
        "id": "view-in-github",
        "colab_type": "text"
      },
      "source": [
        "<a href=\"https://colab.research.google.com/github/AakankshaDasari/Internpedia/blob/main/currency_converter.ipynb\" target=\"_parent\"><img src=\"https://colab.research.google.com/assets/colab-badge.svg\" alt=\"Open In Colab\"/></a>"
      ]
    },
    {
      "cell_type": "code",
      "execution_count": null,
      "metadata": {
        "id": "nRCxQvKrCtXO"
      },
      "outputs": [],
      "source": [
        "import requests"
      ]
    },
    {
      "cell_type": "code",
      "source": [
        "# Function to fetch live exchange rates from an API\n",
        "def get_exchange_rates():\n",
        "  try:\n",
        "    # Using ExchangeRate-API (https://www.exchangenerate-api.com/) for live exchange rates\n",
        "    url = 'https://api.exchangerate-api.com/v4/latest/USD'\n",
        "    response = requests.get(url)\n",
        "    data = response.json()\n",
        "    rates = data['rates']\n",
        "    return rates\n",
        "  except requests.exceptions.RequestException as e:\n",
        "    print(\"Error fetching exchange rates:\", e)\n",
        "    return None"
      ],
      "metadata": {
        "id": "nCZoe-l7D-dH"
      },
      "execution_count": null,
      "outputs": []
    },
    {
      "cell_type": "code",
      "source": [
        "# Function to convert currency\n",
        "def convert_currency(amount, source_currency, target_currency, rates):\n",
        "    if source_currency in rates and target_currency in rates:\n",
        "        source_rate = rates[source_currency]\n",
        "        target_rate = rates[target_currency]\n",
        "        converted_amount = amount / source_rate * target_rate\n",
        "        return converted_amount\n",
        "    else:\n",
        "       return None"
      ],
      "metadata": {
        "id": "-X0FXeRvGYK_"
      },
      "execution_count": null,
      "outputs": []
    },
    {
      "cell_type": "code",
      "source": [
        "# Function to display the result\n",
        "def display_result(amount, source_currency, target_currency, converted_amount):\n",
        "    print(f\"{amount} {source_currency} is equal to {converted_amount:.2f} {target_currency}\\n\")"
      ],
      "metadata": {
        "id": "TdR7IoCzHuPj"
      },
      "execution_count": null,
      "outputs": []
    },
    {
      "cell_type": "code",
      "source": [
        "# Main function\n",
        "def main():\n",
        "    print(\"Welcome to the Currency Converter Program!\")\n",
        "\n",
        "    # Fetch exchange rates\n",
        "    rates = get_exchange_rates()\n",
        "    if rates is None:\n",
        "        return\n",
        "\n",
        "    while True:\n",
        "       print(\"Available currencies: USD, EUR, GBP,JPY, CAD, AUD\")\n",
        "       source_currency = input(\"Enter source currency: \").upper()\n",
        "       target_currency = input(\"Enter target currency: \").upper()\n",
        "\n",
        "       if source_currency == target_currency:\n",
        "           print(\"Source and target currencies cannot be the same.\\n\")\n",
        "           continue\n",
        "\n",
        "       if source_currency not in rates or target_currency not in rates:\n",
        "           print(\"Invalid currency salection. Please choose from the available currencies.\\n\")\n",
        "           continue\n",
        "\n",
        "       try:\n",
        "           amount = float(input(\"Enter the amount to convert: \"))\n",
        "       except ValueError:\n",
        "           print(\"Invalid input. please enter a valid amount.\\n\")\n",
        "           continue\n",
        "\n",
        "       choice = input(\"Do you want to perform another conversion? (yes/no): \").lower()\n",
        "       if choice != 'yes':\n",
        "           print(\"Thank you for using the Currency Converter Program. Goodbye!\")\n",
        "           break"
      ],
      "metadata": {
        "id": "ztYp7QE8R4mV"
      },
      "execution_count": null,
      "outputs": []
    },
    {
      "cell_type": "code",
      "source": [
        "if __name__ == \"__main__\":\n",
        "    main()"
      ],
      "metadata": {
        "colab": {
          "base_uri": "https://localhost:8080/"
        },
        "id": "N1olCJZ4ZWnP",
        "outputId": "61abf169-f345-40a1-836d-189a52c11c5c"
      },
      "execution_count": null,
      "outputs": [
        {
          "output_type": "stream",
          "name": "stdout",
          "text": [
            "Welcome to the Currency Converter Program!\n",
            "Available currencies: USD, EUR, GBP,JPY, CAD, AUD\n",
            "Enter source currency: india\n",
            "Enter target currency: usd\n",
            "Invalid currency salection. Please choose from the available currencies.\n",
            "\n",
            "Available currencies: USD, EUR, GBP,JPY, CAD, AUD\n",
            "Enter source currency: usd\n",
            "Enter target currency: EUR\n",
            "Enter the amount to convert: 60\n",
            "Do you want to perform another conversion? (yes/no): no\n",
            "Thank you for using the Currency Converter Program. Goodbye!\n"
          ]
        }
      ]
    }
  ]
}